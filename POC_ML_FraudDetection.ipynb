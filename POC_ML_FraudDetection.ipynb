{
  "nbformat": 4,
  "nbformat_minor": 0,
  "metadata": {
    "colab": {
      "provenance": [],
      "authorship_tag": "ABX9TyOZQCV2DiQUVjCOh9kOX93e",
      "include_colab_link": true
    },
    "kernelspec": {
      "name": "python3",
      "display_name": "Python 3"
    },
    "language_info": {
      "name": "python"
    }
  },
  "cells": [
    {
      "cell_type": "markdown",
      "metadata": {
        "id": "view-in-github",
        "colab_type": "text"
      },
      "source": [
        "<a href=\"https://colab.research.google.com/github/mikeninerbravog/POC_ML_AI-in-Finance/blob/master/POC_ML_FraudDetection.ipynb\" target=\"_parent\"><img src=\"https://colab.research.google.com/assets/colab-badge.svg\" alt=\"Open In Colab\"/></a>"
      ]
    },
    {
      "cell_type": "code",
      "execution_count": 5,
      "metadata": {
        "colab": {
          "base_uri": "https://localhost:8080/"
        },
        "id": "lk2ZNvb5snG-",
        "outputId": "56e2b89e-bade-4774-f56d-57ee0726bf48"
      },
      "outputs": [
        {
          "output_type": "stream",
          "name": "stdout",
          "text": [
            "Transações fraudulentas detectadas:\n",
            "      transaction_value  fraudulent\n",
            "31          137.045564          -1\n",
            "74           47.605098          -1\n",
            "100         500.000000          -1\n",
            "101         600.000000          -1\n",
            "102         750.000000          -1\n",
            "103        1000.000000          -1\n",
            "Transações válidas detectadas:\n",
            "     transaction_value  fraudulent\n",
            "0          109.934283           1\n",
            "1           97.234714           1\n",
            "2          112.953771           1\n",
            "3          130.460597           1\n",
            "4           95.316933           1\n",
            "..                ...         ...\n",
            "95          70.729701           1\n",
            "96         105.922406           1\n",
            "97         105.221105           1\n",
            "98         100.102269           1\n",
            "99          95.308257           1\n",
            "\n",
            "[98 rows x 2 columns]\n",
            "Previsão para os próximos 3 dias: [37.12727563 36.9992055  36.87113536]\n",
            "Usuário: O que é um investimento?\n",
            "Chatbot: Investimento é quando você usa dinheiro para comprar algo esperando que ele valha mais no futuro.\n"
          ]
        }
      ],
      "source": [
        "\"\"\"\n",
        "O código inclui três demonstrações didáticas:\n",
        "1. **Detecção de Fraudes**: Uso do algoritmo *Isolation Forest* para identificar transações suspeitas.\n",
        "2. **Previsão de Tendência de Mercado**: Modelo de *Regressão Linear* para prever preços futuros.\n",
        "3. **Chatbot Financeiro**: Simulação de um assistente virtual que responde perguntas básicas sobre finanças.\n",
        "\"\"\"\n",
        "\n",
        "import numpy as np\n",
        "import pandas as pd\n",
        "from sklearn.ensemble import IsolationForest\n",
        "from sklearn.linear_model import LinearRegression\n",
        "import random\n",
        "\n",
        "# 1. Simulação de Detecção de Fraudes e Transações Válidas\n",
        "def detect_transactions():\n",
        "    np.random.seed(42)\n",
        "    transactions = np.random.normal(100, 20, 100).tolist()  # Transações normais\n",
        "    transactions.extend([500, 600, 750, 1000])  # Adicionando fraudes\n",
        "    df = pd.DataFrame({'transaction_value': transactions})\n",
        "\n",
        "    model = IsolationForest(contamination=0.05)\n",
        "    df['fraudulent'] = model.fit_predict(df[['transaction_value']])\n",
        "\n",
        "    frauds = df[df['fraudulent'] == -1]\n",
        "    valid_transactions = df[df['fraudulent'] == 1]\n",
        "\n",
        "    print(\"Transações fraudulentas detectadas:\\n\", frauds)\n",
        "    print(\"Transações válidas detectadas:\\n\", valid_transactions)\n",
        "    return df\n",
        "\n",
        "# 2. Previsão de Tendência de Mercado\n",
        "def market_trend_prediction():\n",
        "    np.random.seed(42)\n",
        "    days = np.arange(1, 101)\n",
        "    prices = 50 + np.cumsum(np.random.normal(0, 1, 100))  # Simulação de preços\n",
        "\n",
        "    model = LinearRegression()\n",
        "    model.fit(days.reshape(-1, 1), prices)\n",
        "    future_prices = model.predict([[101], [102], [103]])\n",
        "\n",
        "    print(\"Previsão para os próximos 3 dias:\", future_prices)\n",
        "    return prices, future_prices\n",
        "\n",
        "# 3. Chatbot Financeiro Simples\n",
        "def chatbot_finance(question):\n",
        "    \"\"\"\n",
        "    Chatbot simples para responder perguntas sobre finanças.\n",
        "    Esse chatbot pode ser expandido para um assistente inteligente e autônomo,\n",
        "    capaz de fornecer respostas mais sofisticadas e interagir dinamicamente com os usuários.\n",
        "    O resultado aqui é apenas um exemplo para a PoC.\n",
        "    \"\"\"\n",
        "    responses = {\n",
        "        \"O que é um investimento?\": \"Investimento é quando você usa dinheiro para comprar algo esperando que ele valha mais no futuro.\",\n",
        "        \"Como evitar fraudes financeiras?\": \"Use cartões seguros, desconfie de ofertas muito boas e monitore suas transações.\",\n",
        "        \"O que é um mercado de ações?\": \"É onde pessoas compram e vendem partes de empresas chamadas ações.\",\n",
        "    }\n",
        "    return responses.get(question, \"Desculpe, não entendi sua pergunta.\")\n",
        "\n",
        "# Executando as funções\n",
        "detect_transactions()\n",
        "market_trend_prediction()\n",
        "\n",
        "# Exemplo de interação com o chatbot\n",
        "pergunta = \"O que é um investimento?\"\n",
        "print(f\"Usuário: {pergunta}\")\n",
        "print(f\"Chatbot: {chatbot_finance(pergunta)}\")\n"
      ]
    },
    {
      "cell_type": "markdown",
      "source": [
        "Aqui está a explicação dos resultados gerados pelo código:\n",
        "\n",
        "### **1. Detecção de Fraudes e Transações Válidas**\n",
        "A função `detect_transactions()` utilizou o **Isolation Forest**, um modelo de machine learning baseado em anomalias, para classificar transações como fraudulentas ou válidas.\n",
        "\n",
        "#### **Transações Fraudulentas Detectadas**\n",
        "Essas transações foram classificadas com **fraudulent = -1**, indicando que o modelo identificou padrões suspeitos. Os valores **500, 600, 750 e 1000** foram claramente considerados fraudes porque são **muito maiores do que a média das outras transações**, o que sugere que são outliers. Além disso, duas outras transações, **137.04 e 47.60**, também foram consideradas suspeitas, possivelmente por estarem em extremos da distribuição.\n",
        "\n",
        "#### **Transações Válidas Detectadas**\n",
        "As transações restantes foram classificadas com **fraudulent = 1**, indicando que foram consideradas normais pelo modelo. Esses valores estão mais próximos da média do conjunto de dados (em torno de 100, com desvio padrão de 20), o que justifica sua classificação como legítimos.\n",
        "\n",
        "---\n",
        "\n",
        "### **2. Previsão de Tendência de Mercado**\n",
        "A função `market_trend_prediction()` aplicou um modelo de **Regressão Linear** para prever os preços de mercado nos próximos três dias. O modelo indicou que os preços esperados são:\n",
        "\n",
        "- **Dia 101:** 37.13\n",
        "- **Dia 102:** 37.00\n",
        "- **Dia 103:** 36.87\n",
        "\n",
        "Esses valores sugerem uma **ligeira tendência de queda**, baseada nos dados históricos de preços simulados.\n",
        "\n",
        "---\n",
        "\n",
        "### **3. Chatbot Financeiro**\n",
        "O chatbot respondeu à pergunta **\"O que é um investimento?\"** com a definição simples:\n",
        "\n",
        "> \"Investimento é quando você usa dinheiro para comprar algo esperando que ele valha mais no futuro.\"\n",
        "\n",
        "Isso exemplifica como a IA pode ser usada para automatizar consultas financeiras comuns."
      ],
      "metadata": {
        "id": "XVx3E_DeEWO2"
      }
    }
  ]
}